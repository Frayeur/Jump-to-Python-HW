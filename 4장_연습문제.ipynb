{
  "nbformat": 4,
  "nbformat_minor": 0,
  "metadata": {
    "colab": {
      "name": "4장 연습문제.ipynb",
      "provenance": [],
      "include_colab_link": true
    },
    "kernelspec": {
      "name": "python3",
      "display_name": "Python 3"
    }
  },
  "cells": [
    {
      "cell_type": "markdown",
      "metadata": {
        "id": "view-in-github",
        "colab_type": "text"
      },
      "source": [
        "<a href=\"https://colab.research.google.com/github/Frayeur/Jump-to-Python-HW/blob/master/4%EC%9E%A5_%EC%97%B0%EC%8A%B5%EB%AC%B8%EC%A0%9C.ipynb\" target=\"_parent\"><img src=\"https://colab.research.google.com/assets/colab-badge.svg\" alt=\"Open In Colab\"/></a>"
      ]
    },
    {
      "cell_type": "markdown",
      "metadata": {
        "id": "srYuDhc737B9",
        "colab_type": "text"
      },
      "source": [
        "## 04장 문제풀이"
      ]
    },
    {
      "cell_type": "markdown",
      "metadata": {
        "id": "nRPc6P934GBf",
        "colab_type": "text"
      },
      "source": [
        "### 01\n",
        "\n",
        "주어진 자연수가 홀수인지 짝수인지 판별해주는 함수(is_odd)를 작성해 보자"
      ]
    },
    {
      "cell_type": "code",
      "metadata": {
        "id": "sH_hLdUk3xNB",
        "colab_type": "code",
        "colab": {}
      },
      "source": [
        "def is_odd(number):\n",
        "  if number%2==1:\n",
        "    return True\n",
        "  else:\n",
        "    return False  "
      ],
      "execution_count": 0,
      "outputs": []
    },
    {
      "cell_type": "code",
      "metadata": {
        "id": "Z7zYAPEX4cz8",
        "colab_type": "code",
        "outputId": "c29f7d7b-fc24-43e3-c64c-7ae5e5edefac",
        "colab": {
          "base_uri": "https://localhost:8080/",
          "height": 35
        }
      },
      "source": [
        "is_odd(3)"
      ],
      "execution_count": 0,
      "outputs": [
        {
          "output_type": "execute_result",
          "data": {
            "text/plain": [
              "True"
            ]
          },
          "metadata": {
            "tags": []
          },
          "execution_count": 13
        }
      ]
    },
    {
      "cell_type": "code",
      "metadata": {
        "id": "0q6F4MGn5KTF",
        "colab_type": "code",
        "outputId": "d1bb0d94-a875-46bc-bbcf-2bbdf5d04d4c",
        "colab": {
          "base_uri": "https://localhost:8080/",
          "height": 35
        }
      },
      "source": [
        "is_odd(34)"
      ],
      "execution_count": 0,
      "outputs": [
        {
          "output_type": "execute_result",
          "data": {
            "text/plain": [
              "False"
            ]
          },
          "metadata": {
            "tags": []
          },
          "execution_count": 14
        }
      ]
    },
    {
      "cell_type": "markdown",
      "metadata": {
        "id": "kYbYV6-t5cAw",
        "colab_type": "text"
      },
      "source": [
        "### 02\n",
        "\n",
        "입력으로 들어오는 모든 수의 평균 값을 계산해 주는 함수를 작성해 보자"
      ]
    },
    {
      "cell_type": "code",
      "metadata": {
        "id": "PwO20p9N5NlE",
        "colab_type": "code",
        "colab": {}
      },
      "source": [
        "def avg_numbers(*args):\n",
        "  result = 0\n",
        "  for i in args:\n",
        "      result += i\n",
        "  return result / len(args)"
      ],
      "execution_count": 0,
      "outputs": []
    },
    {
      "cell_type": "code",
      "metadata": {
        "id": "DDtH9mG05uPB",
        "colab_type": "code",
        "outputId": "a94b74a0-9cd5-4222-fe91-a69221f25ac7",
        "colab": {
          "base_uri": "https://localhost:8080/",
          "height": 35
        }
      },
      "source": [
        "avg_numbers(1,2)"
      ],
      "execution_count": 0,
      "outputs": [
        {
          "output_type": "execute_result",
          "data": {
            "text/plain": [
              "1.5"
            ]
          },
          "metadata": {
            "tags": []
          },
          "execution_count": 19
        }
      ]
    },
    {
      "cell_type": "code",
      "metadata": {
        "id": "8tFkZQ4T5wW9",
        "colab_type": "code",
        "outputId": "1dd26ff1-fa84-4f26-d542-05fec6cf3012",
        "colab": {
          "base_uri": "https://localhost:8080/",
          "height": 35
        }
      },
      "source": [
        "avg_numbers(10,11,12,13,14,15)"
      ],
      "execution_count": 0,
      "outputs": [
        {
          "output_type": "execute_result",
          "data": {
            "text/plain": [
              "12.5"
            ]
          },
          "metadata": {
            "tags": []
          },
          "execution_count": 20
        }
      ]
    },
    {
      "cell_type": "markdown",
      "metadata": {
        "id": "3B8aOXyQ6EOg",
        "colab_type": "text"
      },
      "source": [
        "### 03\n",
        "\n",
        "다음은 두 개의 숫자를 입력받아 더하여 돌려주는 프로그램이다"
      ]
    },
    {
      "cell_type": "code",
      "metadata": {
        "id": "HlQVgJSY7Dkq",
        "colab_type": "code",
        "outputId": "aaa922e9-2a24-4027-82e2-c284b7850f45",
        "colab": {
          "base_uri": "https://localhost:8080/",
          "height": 71
        }
      },
      "source": [
        "input1 = input(\"첫번째 숫자를 입력하세요:\")\n",
        "input2 = input(\"두번째 숫자를 입력하세요:\")\n",
        "\n",
        "total = input1 + input2\n",
        "print(\"두 수의 합은 %s 입니다\" % total)"
      ],
      "execution_count": 0,
      "outputs": [
        {
          "output_type": "stream",
          "text": [
            "첫번째 숫자를 입력하세요:3\n",
            "두번째 숫자를 입력하세요:6\n",
            "두 수의 합은 36 입니다\n"
          ],
          "name": "stdout"
        }
      ]
    },
    {
      "cell_type": "markdown",
      "metadata": {
        "id": "8RigPOU17KJD",
        "colab_type": "text"
      },
      "source": [
        "\n",
        "\n",
        "3과 6을 입력했을 때 9가 아닌 36이라는 결괏값을 돌려주었다. 이 프로그램의 오류를 수정해 보자."
      ]
    },
    {
      "cell_type": "code",
      "metadata": {
        "id": "ZyfbQUpa6AzG",
        "colab_type": "code",
        "outputId": "1d2c2d32-50ae-4b41-e3db-e1de9effc518",
        "colab": {
          "base_uri": "https://localhost:8080/",
          "height": 71
        }
      },
      "source": [
        "input1 = input(\"첫 번째 숫자를 입력하세요:\")\n",
        "input2 = input(\"두 번째 숫자를 입력하세요:\")\n",
        "\n",
        "total = int(input1) + int(input2)\n",
        "print(\"두 수의 합은 %s 입니다\"% total)"
      ],
      "execution_count": 0,
      "outputs": [
        {
          "output_type": "stream",
          "text": [
            "첫 번째 숫자를 입력하세요:3\n",
            "두 번째 숫자를 입력하세요:6\n",
            "두 수의 합은 9 입니다\n"
          ],
          "name": "stdout"
        }
      ]
    },
    {
      "cell_type": "markdown",
      "metadata": {
        "id": "vyQcqrPn7nFK",
        "colab_type": "text"
      },
      "source": [
        "### 04\n",
        "\n",
        "다음 중 출력 결과가 다른 것 한 개를 골라 보자.\n",
        "\n",
        "---\n",
        "(1) print(\"you\" \"need\" \"python\")\n",
        "\n",
        "(2) print(\"you\"+\"need\"+\"python\")\n",
        "\n",
        "(3) print(\"you\", \"need\", \"python\")\n",
        "\n",
        "(4) print(\"\".join([\"you\", \"need\", \"python\"]))"
      ]
    },
    {
      "cell_type": "code",
      "metadata": {
        "id": "8J4Q8m1z6aGC",
        "colab_type": "code",
        "outputId": "132d233e-0a16-4426-9613-dadfd83f10bd",
        "colab": {
          "base_uri": "https://localhost:8080/",
          "height": 35
        }
      },
      "source": [
        "print(\"you\"\"need\"\"python\")"
      ],
      "execution_count": 0,
      "outputs": [
        {
          "output_type": "stream",
          "text": [
            "youneedpython\n"
          ],
          "name": "stdout"
        }
      ]
    },
    {
      "cell_type": "code",
      "metadata": {
        "id": "sECkf1mN8BWy",
        "colab_type": "code",
        "outputId": "64692cff-a00f-478a-ab2f-81fd38223071",
        "colab": {
          "base_uri": "https://localhost:8080/",
          "height": 35
        }
      },
      "source": [
        "print(\"you\"+\"need\"+\"python\")"
      ],
      "execution_count": 0,
      "outputs": [
        {
          "output_type": "stream",
          "text": [
            "youneedpython\n"
          ],
          "name": "stdout"
        }
      ]
    },
    {
      "cell_type": "code",
      "metadata": {
        "id": "trHejN1X8EtN",
        "colab_type": "code",
        "outputId": "bda50f26-a065-4c6a-e089-e96e919b4e0f",
        "colab": {
          "base_uri": "https://localhost:8080/",
          "height": 35
        }
      },
      "source": [
        "print(\"you\",\"need\",\"python\")"
      ],
      "execution_count": 0,
      "outputs": [
        {
          "output_type": "stream",
          "text": [
            "you need python\n"
          ],
          "name": "stdout"
        }
      ]
    },
    {
      "cell_type": "code",
      "metadata": {
        "id": "Dy3qZXur8Ha2",
        "colab_type": "code",
        "outputId": "14810e53-433e-4f7c-fc2e-2838c1b38c43",
        "colab": {
          "base_uri": "https://localhost:8080/",
          "height": 35
        }
      },
      "source": [
        "print(\"\".join([\"you\",\"need\",\"python\"]))"
      ],
      "execution_count": 0,
      "outputs": [
        {
          "output_type": "stream",
          "text": [
            "youneedpython\n"
          ],
          "name": "stdout"
        }
      ]
    },
    {
      "cell_type": "markdown",
      "metadata": {
        "id": "aBTBlnyE8XWO",
        "colab_type": "text"
      },
      "source": [
        "콤마가 있는 경우 공백이 삽입되어 더해지므로 3번만이 다른 값들과 다르게 출력된다."
      ]
    },
    {
      "cell_type": "markdown",
      "metadata": {
        "id": "w6jvxBq88gRv",
        "colab_type": "text"
      },
      "source": [
        "### 05\n",
        "\n",
        "다음은 \"test.txt\"라는 파일에 \"Life is too short\" 문자열을 저장한 후 다시 그 파일을 읽어서 출력하는 프로그램이다."
      ]
    },
    {
      "cell_type": "code",
      "metadata": {
        "id": "3I2glAK_8O3N",
        "colab_type": "code",
        "outputId": "bde3dd80-474d-459c-f222-718b9bddb219",
        "colab": {
          "base_uri": "https://localhost:8080/",
          "height": 35
        }
      },
      "source": [
        "f1 = open(\"test.txt\", 'w')\n",
        "f1.write(\"Life is too short\")\n",
        "\n",
        "f2 = open(\"test.txt\", 'r')\n",
        "print(f2.read())"
      ],
      "execution_count": 0,
      "outputs": [
        {
          "output_type": "stream",
          "text": [
            "\n"
          ],
          "name": "stdout"
        }
      ]
    },
    {
      "cell_type": "markdown",
      "metadata": {
        "id": "98swfTaf8t4Q",
        "colab_type": "text"
      },
      "source": [
        "이 프로그램은 우리가 예상한 \"Life is too short\"라는 문장을 출력하지 않는다. 우리가 예상한 값을 출력할 수 있도록 프로그램을 수정해 보자."
      ]
    },
    {
      "cell_type": "code",
      "metadata": {
        "id": "XZMiAjAk807l",
        "colab_type": "code",
        "outputId": "3afa8303-a7fe-4da9-9bea-4f62632a2a53",
        "colab": {
          "base_uri": "https://localhost:8080/",
          "height": 35
        }
      },
      "source": [
        "f1 = open(\"test.txt\",\"w\")\n",
        "f1.write(\"Life is too short\")\n",
        "f1.close()\n",
        "\n",
        "f2 = open(\"test.txt\",\"r\")\n",
        "print(f2.read())\n",
        "f2.close()"
      ],
      "execution_count": 0,
      "outputs": [
        {
          "output_type": "stream",
          "text": [
            "Life is too short\n"
          ],
          "name": "stdout"
        }
      ]
    },
    {
      "cell_type": "markdown",
      "metadata": {
        "id": "5iW5HciC9Uyu",
        "colab_type": "text"
      },
      "source": [
        "### 06\n",
        "\n",
        "사용자의 입력을 파일(test.txt)에 저장하는 프로그램을 작성해 보자. \n",
        "\n",
        "(단 프로그램을 다시 실행하더라도 기존에 작성한 내용을 유지하고 새로 입력한 내용을 추가해야 한다.)"
      ]
    },
    {
      "cell_type": "code",
      "metadata": {
        "id": "WintSBts9N_y",
        "colab_type": "code",
        "outputId": "bf1e6d77-6506-46e1-cdd9-acf435dc628c",
        "colab": {
          "base_uri": "https://localhost:8080/",
          "height": 35
        }
      },
      "source": [
        "user_input = input(\"저장할 내용을 입력하세요:\")\n",
        "f = open('test.txt','a')\n",
        "f.write(user_input)\n",
        "f.write(\"\\n\")\n",
        "f.close()"
      ],
      "execution_count": 0,
      "outputs": [
        {
          "output_type": "stream",
          "text": [
            "저장할 내용을 입력하세요:Life is too short\n"
          ],
          "name": "stdout"
        }
      ]
    },
    {
      "cell_type": "markdown",
      "metadata": {
        "id": "UXQNwR3F9_S0",
        "colab_type": "text"
      },
      "source": [
        "### 07\n",
        "\n",
        "다음과 같은 내용을 지닌 파일 test.txt가 있다. 이 파일의 내용 중 \"java\"라는 문자열을 \"python\"으로 바꾸어서 저장해 보자.\n",
        "\n",
        "---\n",
        "\n",
        "Life is too short\n",
        "\n",
        "you need java\n"
      ]
    },
    {
      "cell_type": "code",
      "metadata": {
        "id": "iTSb80rzCZSF",
        "colab_type": "code",
        "outputId": "7254fd56-9606-4384-e048-dbb8bd446328",
        "colab": {
          "base_uri": "https://localhost:8080/",
          "height": 127
        }
      },
      "source": [
        "from google.colab import drive\n",
        "\n",
        "drive.mount('/content/gdrive')"
      ],
      "execution_count": 0,
      "outputs": [
        {
          "output_type": "stream",
          "text": [
            "Go to this URL in a browser: https://accounts.google.com/o/oauth2/auth?client_id=947318989803-6bn6qk8qdgf4n4g3pfee6491hc0brc4i.apps.googleusercontent.com&redirect_uri=urn%3Aietf%3Awg%3Aoauth%3A2.0%3Aoob&scope=email%20https%3A%2F%2Fwww.googleapis.com%2Fauth%2Fdocs.test%20https%3A%2F%2Fwww.googleapis.com%2Fauth%2Fdrive%20https%3A%2F%2Fwww.googleapis.com%2Fauth%2Fdrive.photos.readonly%20https%3A%2F%2Fwww.googleapis.com%2Fauth%2Fpeopleapi.readonly&response_type=code\n",
            "\n",
            "Enter your authorization code:\n",
            "··········\n",
            "Mounted at /content/gdrive\n"
          ],
          "name": "stdout"
        }
      ]
    },
    {
      "cell_type": "code",
      "metadata": {
        "id": "J1oxk-Uk_ngU",
        "colab_type": "code",
        "colab": {}
      },
      "source": [
        "with open('/content/gdrive/My Drive/Colab/test.txt', 'w') as f:\n",
        "  f.write('Life is too short \\nyou need java')"
      ],
      "execution_count": 0,
      "outputs": []
    },
    {
      "cell_type": "code",
      "metadata": {
        "id": "IbVv-JLY-JlT",
        "colab_type": "code",
        "colab": {}
      },
      "source": [
        "f = open('/content/gdrive/My Drive/Colab/test.txt', 'r')\n",
        "body = f.read()\n",
        "f.close()\n",
        "\n",
        "body = body.replace('java', 'python')\n",
        "\n",
        "f = open('test.txt', 'w')\n",
        "f.write(body)\n",
        "f.close()"
      ],
      "execution_count": 0,
      "outputs": []
    },
    {
      "cell_type": "code",
      "metadata": {
        "id": "4hprfMqY_c6Q",
        "colab_type": "code",
        "colab": {}
      },
      "source": [
        ""
      ],
      "execution_count": 0,
      "outputs": []
    }
  ]
}